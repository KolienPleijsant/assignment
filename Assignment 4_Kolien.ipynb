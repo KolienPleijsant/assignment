{
 "cells": [
  {
   "cell_type": "code",
   "execution_count": 168,
   "metadata": {},
   "outputs": [],
   "source": [
    "import praw\n",
    "import pandas as pd"
   ]
  },
  {
   "cell_type": "code",
   "execution_count": 169,
   "metadata": {},
   "outputs": [],
   "source": [
    "#create client id and secret\n",
    "CLIENT_ID = \"Bh9UkFl1SyOiuQ\"\n",
    "CLIENT_SECRET = \"kmUh5ExFCpORlrPZ-XQLB3xLjyE\"\n",
    "USER_AGENT = f\"python:{CLIENT_ID}:0.1 (by /u/Kolien_)\""
   ]
  },
  {
   "cell_type": "code",
   "execution_count": 170,
   "metadata": {},
   "outputs": [],
   "source": [
    "#get the api\n",
    "api = praw.Reddit(\n",
    "    client_id = CLIENT_ID,\n",
    "    client_secret = CLIENT_SECRET,\n",
    "    user_agent = USER_AGENT\n",
    ")"
   ]
  },
  {
   "cell_type": "code",
   "execution_count": 171,
   "metadata": {},
   "outputs": [
    {
     "data": {
      "text/plain": [
       "True"
      ]
     },
     "execution_count": 171,
     "metadata": {},
     "output_type": "execute_result"
    }
   ],
   "source": [
    "#read the api\n",
    "api.read_only"
   ]
  },
  {
   "cell_type": "code",
   "execution_count": 172,
   "metadata": {},
   "outputs": [
    {
     "data": {
      "text/plain": [
       "<praw.models.listing.generator.ListingGenerator at 0x11c9bfdd8>"
      ]
     },
     "execution_count": 172,
     "metadata": {},
     "output_type": "execute_result"
    }
   ],
   "source": [
    "#get the submissions\n",
    "submissions = api.subreddit('learnpython').hot(limit = 500)\n",
    "submissions"
   ]
  },
  {
   "cell_type": "code",
   "execution_count": 173,
   "metadata": {},
   "outputs": [],
   "source": [
    "#get the submissions again, make a new list, set index to 0 and import time\n",
    "submissions = api.subreddit('learnpython').hot(limit = 500)\n",
    "newlist = []\n",
    "index = 0\n",
    "import time\n",
    "\n",
    "#get all the submissions and add them to the list\n",
    "for submission in submissions:\n",
    "    submission.created_utc = time.ctime(submission.created_utc)\n",
    "    newlist.append({\n",
    "        \"title\" : submission.title,\n",
    "        \"score\" : submission.score,\n",
    "        \"comments\" : submission.num_comments,\n",
    "        \"author\" : submission.author,\n",
    "        \"created_time\" : submission.created_utc,\n",
    "        \"index\" : index,\n",
    "        \"id\" : submission.id\n",
    "    })\n",
    "    index = index + 1"
   ]
  },
  {
   "cell_type": "code",
   "execution_count": 174,
   "metadata": {},
   "outputs": [],
   "source": [
    "#make a dateframe of the list\n",
    "df = pd.DataFrame(newlist)"
   ]
  },
  {
   "cell_type": "code",
   "execution_count": 175,
   "metadata": {},
   "outputs": [
    {
     "data": {
      "text/html": [
       "<div>\n",
       "<style scoped>\n",
       "    .dataframe tbody tr th:only-of-type {\n",
       "        vertical-align: middle;\n",
       "    }\n",
       "\n",
       "    .dataframe tbody tr th {\n",
       "        vertical-align: top;\n",
       "    }\n",
       "\n",
       "    .dataframe thead th {\n",
       "        text-align: right;\n",
       "    }\n",
       "</style>\n",
       "<table border=\"1\" class=\"dataframe\">\n",
       "  <thead>\n",
       "    <tr style=\"text-align: right;\">\n",
       "      <th></th>\n",
       "      <th>author</th>\n",
       "      <th>comments</th>\n",
       "      <th>created_time</th>\n",
       "      <th>id</th>\n",
       "      <th>index</th>\n",
       "      <th>score</th>\n",
       "      <th>title</th>\n",
       "    </tr>\n",
       "  </thead>\n",
       "  <tbody>\n",
       "    <tr>\n",
       "      <th>0</th>\n",
       "      <td>AutoModerator</td>\n",
       "      <td>23</td>\n",
       "      <td>Mon Oct 22 02:15:10 2018</td>\n",
       "      <td>9q8m75</td>\n",
       "      <td>0</td>\n",
       "      <td>2</td>\n",
       "      <td>Ask Anything Monday - Weekly Thread</td>\n",
       "    </tr>\n",
       "    <tr>\n",
       "      <th>1</th>\n",
       "      <td>MattersOfMastery</td>\n",
       "      <td>62</td>\n",
       "      <td>Sun Oct 21 23:58:37 2018</td>\n",
       "      <td>9q7l55</td>\n",
       "      <td>1</td>\n",
       "      <td>129</td>\n",
       "      <td>I just spent two hours...</td>\n",
       "    </tr>\n",
       "    <tr>\n",
       "      <th>2</th>\n",
       "      <td>Ma_Dixie_Normous</td>\n",
       "      <td>44</td>\n",
       "      <td>Sun Oct 21 23:50:39 2018</td>\n",
       "      <td>9q7iz5</td>\n",
       "      <td>2</td>\n",
       "      <td>49</td>\n",
       "      <td>Python Udemy Courses - FREE</td>\n",
       "    </tr>\n",
       "    <tr>\n",
       "      <th>3</th>\n",
       "      <td>Dear_Suit</td>\n",
       "      <td>29</td>\n",
       "      <td>Sun Oct 21 15:31:21 2018</td>\n",
       "      <td>9q3ioe</td>\n",
       "      <td>3</td>\n",
       "      <td>197</td>\n",
       "      <td>A site that teaches Python from scratch throug...</td>\n",
       "    </tr>\n",
       "    <tr>\n",
       "      <th>4</th>\n",
       "      <td>Aykino</td>\n",
       "      <td>4</td>\n",
       "      <td>Mon Oct 22 01:40:18 2018</td>\n",
       "      <td>9q8cwd</td>\n",
       "      <td>4</td>\n",
       "      <td>23</td>\n",
       "      <td>Short python course aimed at machine learning/AI?</td>\n",
       "    </tr>\n",
       "  </tbody>\n",
       "</table>\n",
       "</div>"
      ],
      "text/plain": [
       "             author  comments              created_time      id  index  score  \\\n",
       "0     AutoModerator        23  Mon Oct 22 02:15:10 2018  9q8m75      0      2   \n",
       "1  MattersOfMastery        62  Sun Oct 21 23:58:37 2018  9q7l55      1    129   \n",
       "2  Ma_Dixie_Normous        44  Sun Oct 21 23:50:39 2018  9q7iz5      2     49   \n",
       "3         Dear_Suit        29  Sun Oct 21 15:31:21 2018  9q3ioe      3    197   \n",
       "4            Aykino         4  Mon Oct 22 01:40:18 2018  9q8cwd      4     23   \n",
       "\n",
       "                                               title  \n",
       "0                Ask Anything Monday - Weekly Thread  \n",
       "1                          I just spent two hours...  \n",
       "2                        Python Udemy Courses - FREE  \n",
       "3  A site that teaches Python from scratch throug...  \n",
       "4  Short python course aimed at machine learning/AI?  "
      ]
     },
     "execution_count": 175,
     "metadata": {},
     "output_type": "execute_result"
    }
   ],
   "source": [
    "#print the the first 5 items\n",
    "df.head()"
   ]
  },
  {
   "cell_type": "code",
   "execution_count": 235,
   "metadata": {},
   "outputs": [
    {
     "data": {
      "text/plain": [
       "GALOXITYv2        7\n",
       "Proxxiiiii        6\n",
       "alisutton         4\n",
       "NaiveReception    4\n",
       "Ricardo1500       4\n",
       "jcoder42          4\n",
       "Sci-Techtop       4\n",
       "creamypuff95      3\n",
       "Cyberzipper       3\n",
       "saeah123ed        3\n",
       "Name: author, dtype: int64"
      ]
     },
     "execution_count": 235,
     "metadata": {},
     "output_type": "execute_result"
    }
   ],
   "source": [
    "#count the number of submisions per author and print the first 10\n",
    "df2 = df[\"author\"].value_counts().head(10)\n",
    "df2"
   ]
  },
  {
   "cell_type": "code",
   "execution_count": 177,
   "metadata": {},
   "outputs": [
    {
     "data": {
      "text/plain": [
       "<matplotlib.axes._subplots.AxesSubplot at 0x1162a1400>"
      ]
     },
     "execution_count": 177,
     "metadata": {},
     "output_type": "execute_result"
    },
    {
     "data": {
      "image/png": "[encoded data removed]",
      "text/plain": [
       "<Figure size 432x288 with 1 Axes>"
      ]
     },
     "metadata": {},
     "output_type": "display_data"
    }
   ],
   "source": [
    "#plot the comments in a histogram\n",
    "df.plot(y = \"comments\", kind = \"hist\", bins = 10)"
   ]
  },
  {
   "cell_type": "code",
   "execution_count": 178,
   "metadata": {},
   "outputs": [
    {
     "data": {
      "text/plain": [
       "<matplotlib.axes._subplots.AxesSubplot at 0x1161daba8>"
      ]
     },
     "execution_count": 178,
     "metadata": {},
     "output_type": "execute_result"
    },
    {
     "data": {
      "image/png": "[encoded data removed]",
      "text/plain": [
       "<Figure size 432x288 with 1 Axes>"
      ]
     },
     "metadata": {},
     "output_type": "display_data"
    }
   ],
   "source": [
    "#plot the scores in a histogram\n",
    "df.plot(y = \"score\", kind = \"hist\", bins = 10)"
   ]
  },
  {
   "cell_type": "code",
   "execution_count": 234,
   "metadata": {},
   "outputs": [
    {
     "data": {
      "text/plain": [
       "<matplotlib.axes._subplots.AxesSubplot at 0x116298f98>"
      ]
     },
     "execution_count": 234,
     "metadata": {},
     "output_type": "execute_result"
    },
    {
     "data": {
      "image/png": "[encoded data removed]",
      "text/plain": [
       "<Figure size 432x288 with 1 Axes>"
      ]
     },
     "metadata": {},
     "output_type": "display_data"
    }
   ],
   "source": [
    "#converting time to only the hours\n",
    "time = pd.Series(df.created_time)\n",
    "split_time = time.str.split(\" \")\n",
    "index = 0\n",
    "hours_time = []\n",
    "for day in split_time:\n",
    "    hours = split_time[index][3]\n",
    "    hours = hours.split(\":\")\n",
    "    hours_time.append(int(hours[0]))\n",
    "    index = index + 1\n",
    "df3 = pd.DataFrame(hours_time)\n",
    "\n",
    "#plot the 24 hours\n",
    "df3[0:24].plot(kind = \"line\")"
   ]
  },
  {
   "cell_type": "code",
   "execution_count": 190,
   "metadata": {},
   "outputs": [
    {
     "data": {
      "text/plain": [
       "'9onhbo'"
      ]
     },
     "execution_count": 190,
     "metadata": {},
     "output_type": "execute_result"
    }
   ],
   "source": [
    "#create a string with the id of the most comments\n",
    "comments_high = df.sort_values(\"comments\", ascending = False).head(1)\n",
    "idcomments_high = comments_high[\"id\"]\n",
    "idcomments_high = str(idcomments_high)\n",
    "idcomments_high = idcomments_high[7:13]\n",
    "idcomments_high"
   ]
  },
  {
   "cell_type": "code",
   "execution_count": 220,
   "metadata": {},
   "outputs": [
    {
     "data": {
      "text/html": [
       "<div>\n",
       "<style scoped>\n",
       "    .dataframe tbody tr th:only-of-type {\n",
       "        vertical-align: middle;\n",
       "    }\n",
       "\n",
       "    .dataframe tbody tr th {\n",
       "        vertical-align: top;\n",
       "    }\n",
       "\n",
       "    .dataframe thead th {\n",
       "        text-align: right;\n",
       "    }\n",
       "</style>\n",
       "<table border=\"1\" class=\"dataframe\">\n",
       "  <thead>\n",
       "    <tr style=\"text-align: right;\">\n",
       "      <th></th>\n",
       "      <th>author</th>\n",
       "      <th>body</th>\n",
       "      <th>score</th>\n",
       "    </tr>\n",
       "  </thead>\n",
       "  <tbody>\n",
       "    <tr>\n",
       "      <th>0</th>\n",
       "      <td>ben_kWh</td>\n",
       "      <td>Not an analyst by title, but I'd say that was ...</td>\n",
       "      <td>29</td>\n",
       "    </tr>\n",
       "    <tr>\n",
       "      <th>1</th>\n",
       "      <td>Antreas93</td>\n",
       "      <td>I write atleast a line of code or two in pytho...</td>\n",
       "      <td>8</td>\n",
       "    </tr>\n",
       "    <tr>\n",
       "      <th>2</th>\n",
       "      <td>omgu8mynewt</td>\n",
       "      <td>working in research and learning to use python...</td>\n",
       "      <td>6</td>\n",
       "    </tr>\n",
       "    <tr>\n",
       "      <th>3</th>\n",
       "      <td>Ad2996</td>\n",
       "      <td>An analyst here and sometimes I have to do som...</td>\n",
       "      <td>14</td>\n",
       "    </tr>\n",
       "    <tr>\n",
       "      <th>4</th>\n",
       "      <td>git0ffmylawnm8</td>\n",
       "      <td>Another analyst here. I've moved almost entire...</td>\n",
       "      <td>4</td>\n",
       "    </tr>\n",
       "    <tr>\n",
       "      <th>5</th>\n",
       "      <td>almostablaze</td>\n",
       "      <td>I just got into Python and I am still reading ...</td>\n",
       "      <td>3</td>\n",
       "    </tr>\n",
       "    <tr>\n",
       "      <th>6</th>\n",
       "      <td>Pimp_Fada</td>\n",
       "      <td>New BI Analyst here. The sooner you move away ...</td>\n",
       "      <td>3</td>\n",
       "    </tr>\n",
       "    <tr>\n",
       "      <th>7</th>\n",
       "      <td>catelemnis</td>\n",
       "      <td>Python is definitely a good start. I would als...</td>\n",
       "      <td>3</td>\n",
       "    </tr>\n",
       "    <tr>\n",
       "      <th>8</th>\n",
       "      <td>MyPythonDontWantNone</td>\n",
       "      <td>I'm only partially a data analyst, but I use P...</td>\n",
       "      <td>2</td>\n",
       "    </tr>\n",
       "    <tr>\n",
       "      <th>9</th>\n",
       "      <td>IgorFB</td>\n",
       "      <td>Have a look at Introduction to Python for Data...</td>\n",
       "      <td>2</td>\n",
       "    </tr>\n",
       "    <tr>\n",
       "      <th>10</th>\n",
       "      <td>Goldengreek12</td>\n",
       "      <td>I have been learning through this site Dataque...</td>\n",
       "      <td>2</td>\n",
       "    </tr>\n",
       "    <tr>\n",
       "      <th>11</th>\n",
       "      <td>pheeper</td>\n",
       "      <td>Data Analyst here that was in a similar situat...</td>\n",
       "      <td>1</td>\n",
       "    </tr>\n",
       "    <tr>\n",
       "      <th>12</th>\n",
       "      <td>nlomb</td>\n",
       "      <td>Analyst here, I use Python for tasks that will...</td>\n",
       "      <td>1</td>\n",
       "    </tr>\n",
       "    <tr>\n",
       "      <th>13</th>\n",
       "      <td>DudeYourBedsaCar</td>\n",
       "      <td>I’m a data quality analyst and I use python, p...</td>\n",
       "      <td>1</td>\n",
       "    </tr>\n",
       "    <tr>\n",
       "      <th>14</th>\n",
       "      <td>KingKliffsbury</td>\n",
       "      <td>I was an analyst, now I manage analysts. Unfor...</td>\n",
       "      <td>1</td>\n",
       "    </tr>\n",
       "    <tr>\n",
       "      <th>15</th>\n",
       "      <td>purpurato</td>\n",
       "      <td>Excel is not really the tool you need to handl...</td>\n",
       "      <td>1</td>\n",
       "    </tr>\n",
       "    <tr>\n",
       "      <th>16</th>\n",
       "      <td>PM_ME_HOT_GUYS_NAKED</td>\n",
       "      <td>Is it possible to get a career in data science...</td>\n",
       "      <td>1</td>\n",
       "    </tr>\n",
       "    <tr>\n",
       "      <th>17</th>\n",
       "      <td>Heavy-_-Breathing</td>\n",
       "      <td>Data scientist at one of the top three streami...</td>\n",
       "      <td>1</td>\n",
       "    </tr>\n",
       "    <tr>\n",
       "      <th>18</th>\n",
       "      <td>citizenofacceptance2</td>\n",
       "      <td>It’s done with pandas and can be done in one l...</td>\n",
       "      <td>1</td>\n",
       "    </tr>\n",
       "    <tr>\n",
       "      <th>19</th>\n",
       "      <td>achristinax</td>\n",
       "      <td>im a scientist that uses python on the daily. ...</td>\n",
       "      <td>1</td>\n",
       "    </tr>\n",
       "    <tr>\n",
       "      <th>20</th>\n",
       "      <td>Samazing42</td>\n",
       "      <td>What kind of analyst are you? What industry?</td>\n",
       "      <td>1</td>\n",
       "    </tr>\n",
       "    <tr>\n",
       "      <th>21</th>\n",
       "      <td>zylog413</td>\n",
       "      <td>We needed more bodies in our data science depa...</td>\n",
       "      <td>1</td>\n",
       "    </tr>\n",
       "  </tbody>\n",
       "</table>\n",
       "</div>"
      ],
      "text/plain": [
       "                  author                                               body  \\\n",
       "0                ben_kWh  Not an analyst by title, but I'd say that was ...   \n",
       "1              Antreas93  I write atleast a line of code or two in pytho...   \n",
       "2            omgu8mynewt  working in research and learning to use python...   \n",
       "3                 Ad2996  An analyst here and sometimes I have to do som...   \n",
       "4         git0ffmylawnm8  Another analyst here. I've moved almost entire...   \n",
       "5           almostablaze  I just got into Python and I am still reading ...   \n",
       "6              Pimp_Fada  New BI Analyst here. The sooner you move away ...   \n",
       "7             catelemnis  Python is definitely a good start. I would als...   \n",
       "8   MyPythonDontWantNone  I'm only partially a data analyst, but I use P...   \n",
       "9                 IgorFB  Have a look at Introduction to Python for Data...   \n",
       "10         Goldengreek12  I have been learning through this site Dataque...   \n",
       "11               pheeper  Data Analyst here that was in a similar situat...   \n",
       "12                 nlomb  Analyst here, I use Python for tasks that will...   \n",
       "13      DudeYourBedsaCar  I’m a data quality analyst and I use python, p...   \n",
       "14        KingKliffsbury  I was an analyst, now I manage analysts. Unfor...   \n",
       "15             purpurato  Excel is not really the tool you need to handl...   \n",
       "16  PM_ME_HOT_GUYS_NAKED  Is it possible to get a career in data science...   \n",
       "17     Heavy-_-Breathing  Data scientist at one of the top three streami...   \n",
       "18  citizenofacceptance2  It’s done with pandas and can be done in one l...   \n",
       "19           achristinax  im a scientist that uses python on the daily. ...   \n",
       "20            Samazing42       What kind of analyst are you? What industry?   \n",
       "21              zylog413  We needed more bodies in our data science depa...   \n",
       "\n",
       "    score  \n",
       "0      29  \n",
       "1       8  \n",
       "2       6  \n",
       "3      14  \n",
       "4       4  \n",
       "5       3  \n",
       "6       3  \n",
       "7       3  \n",
       "8       2  \n",
       "9       2  \n",
       "10      2  \n",
       "11      1  \n",
       "12      1  \n",
       "13      1  \n",
       "14      1  \n",
       "15      1  \n",
       "16      1  \n",
       "17      1  \n",
       "18      1  \n",
       "19      1  \n",
       "20      1  \n",
       "21      1  "
      ]
     },
     "execution_count": 220,
     "metadata": {},
     "output_type": "execute_result"
    }
   ],
   "source": [
    "#get the comments of the submission with the most comments\n",
    "submission = api.submission(id = idcomments_high)\n",
    "index2 = 0\n",
    "\n",
    "#make a new list\n",
    "comments_list = []\n",
    "\n",
    "#scrape the comments and put it in a dict\n",
    "for comment in submission.comments:\n",
    "    if isinstance(comment, praw.models.MoreComments):\n",
    "        continue\n",
    "    comments_list.append({\n",
    "        \"body\" : comment.body[0:100],\n",
    "        \"score\" : comment.score,\n",
    "        \"author\" : str(comment.author)\n",
    "    })\n",
    "    index2 = index2 + 1\n",
    "    \n",
    "#make a dataframe\n",
    "df4 = pd.DataFrame(comments_list)\n",
    "df4"
   ]
  },
  {
   "cell_type": "code",
   "execution_count": 224,
   "metadata": {},
   "outputs": [
    {
     "data": {
      "text/html": [
       "<div>\n",
       "<style scoped>\n",
       "    .dataframe tbody tr th:only-of-type {\n",
       "        vertical-align: middle;\n",
       "    }\n",
       "\n",
       "    .dataframe tbody tr th {\n",
       "        vertical-align: top;\n",
       "    }\n",
       "\n",
       "    .dataframe thead th {\n",
       "        text-align: right;\n",
       "    }\n",
       "</style>\n",
       "<table border=\"1\" class=\"dataframe\">\n",
       "  <thead>\n",
       "    <tr style=\"text-align: right;\">\n",
       "      <th></th>\n",
       "      <th>author</th>\n",
       "      <th>body</th>\n",
       "      <th>score</th>\n",
       "    </tr>\n",
       "  </thead>\n",
       "  <tbody>\n",
       "    <tr>\n",
       "      <th>0</th>\n",
       "      <td>ben_kWh</td>\n",
       "      <td>Not an analyst by title, but I'd say that was ...</td>\n",
       "      <td>29</td>\n",
       "    </tr>\n",
       "    <tr>\n",
       "      <th>1</th>\n",
       "      <td>Antreas93</td>\n",
       "      <td>I write atleast a line of code or two in pytho...</td>\n",
       "      <td>8</td>\n",
       "    </tr>\n",
       "    <tr>\n",
       "      <th>2</th>\n",
       "      <td>omgu8mynewt</td>\n",
       "      <td>working in research and learning to use python...</td>\n",
       "      <td>6</td>\n",
       "    </tr>\n",
       "    <tr>\n",
       "      <th>3</th>\n",
       "      <td>Ad2996</td>\n",
       "      <td>An analyst here and sometimes I have to do som...</td>\n",
       "      <td>14</td>\n",
       "    </tr>\n",
       "    <tr>\n",
       "      <th>4</th>\n",
       "      <td>git0ffmylawnm8</td>\n",
       "      <td>Another analyst here. I've moved almost entire...</td>\n",
       "      <td>4</td>\n",
       "    </tr>\n",
       "  </tbody>\n",
       "</table>\n",
       "</div>"
      ],
      "text/plain": [
       "           author                                               body  score\n",
       "0         ben_kWh  Not an analyst by title, but I'd say that was ...     29\n",
       "1       Antreas93  I write atleast a line of code or two in pytho...      8\n",
       "2     omgu8mynewt  working in research and learning to use python...      6\n",
       "3          Ad2996  An analyst here and sometimes I have to do som...     14\n",
       "4  git0ffmylawnm8  Another analyst here. I've moved almost entire...      4"
      ]
     },
     "execution_count": 224,
     "metadata": {},
     "output_type": "execute_result"
    }
   ],
   "source": [
    "#print the first 5\n",
    "df4.head()"
   ]
  },
  {
   "cell_type": "code",
   "execution_count": 229,
   "metadata": {},
   "outputs": [
    {
     "data": {
      "text/plain": [
       "author\n",
       "ben_kWh           29\n",
       "Ad2996            14\n",
       "Antreas93          8\n",
       "omgu8mynewt        6\n",
       "git0ffmylawnm8     4\n",
       "Name: score, dtype: int64"
      ]
     },
     "execution_count": 229,
     "metadata": {},
     "output_type": "execute_result"
    }
   ],
   "source": [
    "#group the authors and sum all the scores\n",
    "df5 = df4.groupby(\"author\")[\"score\"].sum()\n",
    "df5 = df5.sort_values(ascending = False)\n",
    "\n",
    "#show the first 5\n",
    "df5.head()"
   ]
  },
  {
   "cell_type": "code",
   "execution_count": 231,
   "metadata": {},
   "outputs": [
    {
     "data": {
      "text/plain": [
       "<matplotlib.axes._subplots.AxesSubplot at 0x11d705080>"
      ]
     },
     "execution_count": 231,
     "metadata": {},
     "output_type": "execute_result"
    },
    {
     "data": {
      "image/png": "[encoded data removed]",
      "text/plain": [
       "<Figure size 432x288 with 1 Axes>"
      ]
     },
     "metadata": {},
     "output_type": "display_data"
    }
   ],
   "source": [
    "#plot the first 10 scores\n",
    "df5[0:10].plot(kind = \"bar\")"
   ]
  }
 ],
 "metadata": {
  "kernelspec": {
   "display_name": "Python 3",
   "language": "python",
   "name": "python3"
  },
  "language_info": {
   "codemirror_mode": {
    "name": "ipython",
    "version": 3
   },
   "file_extension": ".py",
   "mimetype": "text/x-python",
   "name": "python",
   "nbconvert_exporter": "python",
   "pygments_lexer": "ipython3",
   "version": "3.6.5"
  }
 },
 "nbformat": 4,
 "nbformat_minor": 2
}
