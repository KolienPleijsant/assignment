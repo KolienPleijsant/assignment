{
 "cells": [
  {
   "cell_type": "code",
   "execution_count": 36,
   "metadata": {},
   "outputs": [
    {
     "name": "stdout",
     "output_type": "stream",
     "text": [
      "In which language do you want to see your article?\n",
      "For English: type EN\n",
      "For Dutch: type NL\n",
      "For Spanisch: type ES\n"
     ]
    }
   ],
   "source": [
    "import requests\n",
    "import json\n",
    "from IPython.display import display, HTML, Image\n",
    "\n",
    "#ask for a article\n",
    "user_article = input(\"Type in the title of a Wikipedia article: \")\n",
    "user_url= user_article.strip().replace(\" \", \"_\")\n",
    "\n",
    "#show options for the language\n",
    "print(\"In which language do you want to see your article?\")\n",
    "print(\"For English: type EN\")\n",
    "print(\"For Dutch: type NL\")\n",
    "print(\"For Spanisch: type ES\")"
   ]
  },
  {
   "cell_type": "code",
   "execution_count": 37,
   "metadata": {},
   "outputs": [],
   "source": [
    "#ask for a language\n",
    "user_language = input(\"Type here your answer: \").lower()"
   ]
  },
  {
   "cell_type": "code",
   "execution_count": 38,
   "metadata": {},
   "outputs": [
    {
     "name": "stdout",
     "output_type": "stream",
     "text": [
      "You choose the article about Utrecht in English.\n"
     ]
    }
   ],
   "source": [
    "#check which language they want and print print the article and language\n",
    "if user_language == \"en\":\n",
    "    print(f\"You choose the article about {user_article} in English.\")\n",
    "    \n",
    "elif user_language == \"nl\":\n",
    "    print(f\"Je hebt het aritkel over {user_article} gekozen in het Nederlands.\")\n",
    "    \n",
    "elif user_language == \"es\":\n",
    "    print(f\"Has seleccionado el artículo sobre {user_article} en español.\")"
   ]
  },
  {
   "cell_type": "code",
   "execution_count": 39,
   "metadata": {},
   "outputs": [
    {
     "name": "stdout",
     "output_type": "stream",
     "text": [
      "https://en.wikipedia.org/api/rest_v1/page/summary/Utrecht\n"
     ]
    }
   ],
   "source": [
    "#make the url for the api\n",
    "url = f\"https://{user_language}.wikipedia.org/api/rest_v1/page/summary/{user_url}\"\n",
    "print(url)"
   ]
  },
  {
   "cell_type": "code",
   "execution_count": 40,
   "metadata": {},
   "outputs": [
    {
     "name": "stdout",
     "output_type": "stream",
     "text": [
      "The site works\n"
     ]
    }
   ],
   "source": [
    "#request the website from the given URL\n",
    "req = requests.get(url)\n",
    "\n",
    "#check the status of the website and check if the status is 200\n",
    "status = req.status_code\n",
    "if status != 200:\n",
    "    print(f\"ERROR, this website is nog working. The stutus code is {status_code}\")\n",
    "    exit()\n",
    "else:\n",
    "    print(\"The site works\")"
   ]
  },
  {
   "cell_type": "code",
   "execution_count": 41,
   "metadata": {},
   "outputs": [
    {
     "name": "stdout",
     "output_type": "stream",
     "text": [
      "Title: Utrecht\n"
     ]
    }
   ],
   "source": [
    "#load the text\n",
    "data = json.loads(req.text)\n",
    "\n",
    "#print the title if it is available \n",
    "if \"title\" in data:\n",
    "    title = data[\"title\"]\n",
    "    print(f'Title: {title}')\n",
    "\n",
    "#print the description if it is available \n",
    "if \"description\" in data:\n",
    "    description = data[\"description\"]"
   ]
  },
  {
   "cell_type": "code",
   "execution_count": 42,
   "metadata": {},
   "outputs": [
    {
     "data": {
      "text/html": [
       "<img src=\"https://upload.wikimedia.org/wikipedia/commons/thumb/b/b6/Utrecht_Altstadt_32.jpg/320px-Utrecht_Altstadt_32.jpg\"/>"
      ],
      "text/plain": [
       "<IPython.core.display.Image object>"
      ]
     },
     "metadata": {},
     "output_type": "display_data"
    }
   ],
   "source": [
    "#check if there is a thumbnail and show the thumbnail\n",
    "if \"thumbnail\" in data:\n",
    "    width = data[\"thumbnail\"][\"width\"]\n",
    "    height = data[\"thumbnail\"][\"height\"]\n",
    "    source = data[\"thumbnail\"][\"source\"]\n",
    "    img = Image(url = source)\n",
    "    display(img)\n",
    "else:\n",
    "    print(\"ERROR, there is no thumbnail on this Wikipedia page.\")"
   ]
  },
  {
   "cell_type": "code",
   "execution_count": 43,
   "metadata": {},
   "outputs": [
    {
     "data": {
      "text/html": [
       "<a href=http://maps.google.com/?q=@52.08333333,5.11666667>URL to Google Maps: http://maps.google.com/?q=@52.08333333,5.11666667</a>"
      ],
      "text/plain": [
       "<IPython.core.display.HTML object>"
      ]
     },
     "metadata": {},
     "output_type": "display_data"
    }
   ],
   "source": [
    "#check if there are cooridnates and show the coordinates in a clickable url\n",
    "if \"coordinates\" in data:\n",
    "    location = data[\"coordinates\"]\n",
    "    lat = str(data[\"coordinates\"][\"lat\"])\n",
    "    lon = str(data[\"coordinates\"][\"lon\"])\n",
    "    maps = \"http://maps.google.com/?q=@\" + lat + \",\" + lon\n",
    "    display(HTML(\"<a href=\" + maps + \">URL to Google Maps: \" + maps + \"</a>\"))\n",
    "else:\n",
    "    print(\"ERROR, there are no coordinates on this Wikipedia page.\")"
   ]
  },
  {
   "cell_type": "code",
   "execution_count": 44,
   "metadata": {},
   "outputs": [
    {
     "name": "stdout",
     "output_type": "stream",
     "text": [
      "https://en.wikipedia.org/api/rest_v1/page/related/Utrecht\n",
      "The site works\n"
     ]
    }
   ],
   "source": [
    "#load the link with the related pages\n",
    "url_related = f\"https://{user_language}.wikipedia.org/api/rest_v1/page/related/{user_url}\"\n",
    "print(url_related)\n",
    "req_related = requests.get(url_related)\n",
    "\n",
    "#check the status of the website and check if the status is 200\n",
    "status = req.status_code\n",
    "if status != 200:\n",
    "    print(f\"ERROR, this website is nog working. The stutus code is {status_code}\")\n",
    "    exit()\n",
    "else:\n",
    "    print(\"The site works\")"
   ]
  },
  {
   "cell_type": "code",
   "execution_count": 45,
   "metadata": {},
   "outputs": [
    {
     "name": "stdout",
     "output_type": "stream",
     "text": [
      "Title: The_Hague\n",
      "Description: City and municipality in South Holland, Netherlands\n"
     ]
    },
    {
     "data": {
      "text/html": [
       "<a href=https://en.wikipedia.org/wiki/The_Hague>Link: https://en.wikipedia.org/wiki/The_Hague</a>"
      ],
      "text/plain": [
       "<IPython.core.display.HTML object>"
      ]
     },
     "metadata": {},
     "output_type": "display_data"
    },
    {
     "name": "stdout",
     "output_type": "stream",
     "text": [
      "Title: Dom_Tower_of_Utrecht\n",
      "Description: church tower in the city of  Utrecht, Netherlands\n"
     ]
    },
    {
     "data": {
      "text/html": [
       "<a href=https://en.wikipedia.org/wiki/Dom_Tower_of_Utrecht>Link: https://en.wikipedia.org/wiki/Dom_Tower_of_Utrecht</a>"
      ],
      "text/plain": [
       "<IPython.core.display.HTML object>"
      ]
     },
     "metadata": {},
     "output_type": "display_data"
    },
    {
     "name": "stdout",
     "output_type": "stream",
     "text": [
      "Title: Amersfoort\n",
      "Description: City and municipality in Utrecht, Netherlands\n"
     ]
    },
    {
     "data": {
      "text/html": [
       "<a href=https://en.wikipedia.org/wiki/Amersfoort>Link: https://en.wikipedia.org/wiki/Amersfoort</a>"
      ],
      "text/plain": [
       "<IPython.core.display.HTML object>"
      ]
     },
     "metadata": {},
     "output_type": "display_data"
    }
   ],
   "source": [
    "#load the text of the website\n",
    "data_related = json.loads(req_related.text)\n",
    "related_list = []\n",
    "index = 0\n",
    "\n",
    "#put the first three results in a list\n",
    "while index < 3:\n",
    "    page = data_related[\"pages\"][index]\n",
    "    related_list.append(page)\n",
    "    index = index + 1\n",
    "\n",
    "#make another index and set it to 0\n",
    "indextwo = 0\n",
    "#make a new list\n",
    "superlist = []\n",
    "\n",
    "#set title, description in the list\n",
    "for info in related_list:\n",
    "    for i in related_list:\n",
    "        dict_item = {\n",
    "            \"title\" : related_list[indextwo][\"title\"],\n",
    "            \"description\" : related_list[indextwo][\"description\"],\n",
    "            \"url\" : related_list[indextwo][\"content_urls\"][\"desktop\"][\"page\"]\n",
    "        }\n",
    "    superlist.append(dict_item)\n",
    "    \n",
    "    indextwo = indextwo + 1\n",
    "\n",
    "#make a new index and set it to 0\n",
    "indexthree = 0\n",
    "\n",
    "#print all the items from the list\n",
    "for item in superlist:\n",
    "    print(\"Title: \" + superlist[indexthree][\"title\"])\n",
    "    print(\"Description: \" + superlist[indexthree][\"description\"])\n",
    "    display(HTML(\"<a href=\" + superlist[indexthree][\"url\"] + \">\" + \"Link: \" + superlist[indexthree][\"url\"] + \"</a>\"))\n",
    "    indexthree = indexthree + 1"
   ]
  }
 ],
 "metadata": {
  "kernelspec": {
   "display_name": "Python 3",
   "language": "python",
   "name": "python3"
  },
  "language_info": {
   "codemirror_mode": {
    "name": "ipython",
    "version": 3
   },
   "file_extension": ".py",
   "mimetype": "text/x-python",
   "name": "python",
   "nbconvert_exporter": "python",
   "pygments_lexer": "ipython3",
   "version": "3.6.5"
  }
 },
 "nbformat": 4,
 "nbformat_minor": 2
}
